{
 "cells": [
  {
   "cell_type": "code",
   "execution_count": 2,
   "metadata": {
    "collapsed": true
   },
   "outputs": [],
   "source": [
    "from h2o_utils import H2OUtils"
   ]
  },
  {
   "cell_type": "code",
   "execution_count": 3,
   "metadata": {
    "collapsed": false
   },
   "outputs": [
    {
     "name": "stdout",
     "output_type": "stream",
     "text": [
      "H2OUtils: connect to H2O\n",
      "\n",
      "Checking whether there is an H2O instance running at http://localhost:54321. connected.\n"
     ]
    },
    {
     "data": {
      "text/html": [
       "<div style=\"overflow:auto\"><table style=\"width:50%\"><tr><td>H2O cluster uptime:</td>\n",
       "<td>2 hours 56 mins</td></tr>\n",
       "<tr><td>H2O cluster version:</td>\n",
       "<td>3.10.4.5</td></tr>\n",
       "<tr><td>H2O cluster version age:</td>\n",
       "<td>16 days </td></tr>\n",
       "<tr><td>H2O cluster name:</td>\n",
       "<td>magnus</td></tr>\n",
       "<tr><td>H2O cluster total nodes:</td>\n",
       "<td>1</td></tr>\n",
       "<tr><td>H2O cluster free memory:</td>\n",
       "<td>1.481 Gb</td></tr>\n",
       "<tr><td>H2O cluster total cores:</td>\n",
       "<td>4</td></tr>\n",
       "<tr><td>H2O cluster allowed cores:</td>\n",
       "<td>4</td></tr>\n",
       "<tr><td>H2O cluster status:</td>\n",
       "<td>locked, healthy</td></tr>\n",
       "<tr><td>H2O connection url:</td>\n",
       "<td>http://localhost:54321</td></tr>\n",
       "<tr><td>H2O connection proxy:</td>\n",
       "<td>None</td></tr>\n",
       "<tr><td>H2O internal security:</td>\n",
       "<td>False</td></tr>\n",
       "<tr><td>Python version:</td>\n",
       "<td>2.7.13 final</td></tr></table></div>"
      ],
      "text/plain": [
       "--------------------------  ----------------------\n",
       "H2O cluster uptime:         2 hours 56 mins\n",
       "H2O cluster version:        3.10.4.5\n",
       "H2O cluster version age:    16 days\n",
       "H2O cluster name:           magnus\n",
       "H2O cluster total nodes:    1\n",
       "H2O cluster free memory:    1.481 Gb\n",
       "H2O cluster total cores:    4\n",
       "H2O cluster allowed cores:  4\n",
       "H2O cluster status:         locked, healthy\n",
       "H2O connection url:         http://localhost:54321\n",
       "H2O connection proxy:\n",
       "H2O internal security:      False\n",
       "Python version:             2.7.13 final\n",
       "--------------------------  ----------------------"
      ]
     },
     "metadata": {},
     "output_type": "display_data"
    },
    {
     "name": "stdout",
     "output_type": "stream",
     "text": [
      "\n"
     ]
    }
   ],
   "source": [
    "h = H2OUtils(ip='localhost', port=\"54321\")"
   ]
  },
  {
   "cell_type": "code",
   "execution_count": 4,
   "metadata": {
    "collapsed": false
   },
   "outputs": [
    {
     "name": "stdout",
     "output_type": "stream",
     "text": [
      "Models for rx: ^dp.+0: ['dp_grid_model_0']\n"
     ]
    },
    {
     "data": {
      "text/plain": [
       "['dp_grid_model_0']"
      ]
     },
     "execution_count": 4,
     "metadata": {},
     "output_type": "execute_result"
    }
   ],
   "source": [
    "h.list_models('^dp.+0')"
   ]
  },
  {
   "cell_type": "code",
   "execution_count": 5,
   "metadata": {
    "collapsed": false
   },
   "outputs": [
    {
     "name": "stdout",
     "output_type": "stream",
     "text": [
      "Models for rx: ^dp.+0: ['dp_grid_model_0']\n",
      "Save modeldp_grid_model_0 to /tmp//dp_grid_model_0\n"
     ]
    }
   ],
   "source": [
    "h.save_models(rx='^dp.+0', path='/tmp/', overwrite=True)"
   ]
  },
  {
   "cell_type": "code",
   "execution_count": null,
   "metadata": {
    "collapsed": false
   },
   "outputs": [
    {
     "name": "stdout",
     "output_type": "stream",
     "text": [
      "Save modeldp_grid_model_0 to /tmp//dp_grid_model_0\n",
      "Save modeldp_grid_model_1 to /tmp//dp_grid_model_1\n",
      "Save modeldp_grid_model_2 to /tmp//dp_grid_model_2\n",
      "Save modeldp_grid_model_3 to /tmp//dp_grid_model_3\n",
      "Save modelgrid-372051c8-d919-4c52-9b68-c84aee119f6d_model_0 to /tmp//grid-372051c8-d919-4c52-9b68-c84aee119f6d_model_0\n",
      "Save modelgrid-372051c8-d919-4c52-9b68-c84aee119f6d_model_1 to /tmp//grid-372051c8-d919-4c52-9b68-c84aee119f6d_model_1\n",
      "Save modelgrid-372051c8-d919-4c52-9b68-c84aee119f6d_model_10 to /tmp//grid-372051c8-d919-4c52-9b68-c84aee119f6d_model_10\n",
      "Save modelgrid-372051c8-d919-4c52-9b68-c84aee119f6d_model_2 to /tmp//grid-372051c8-d919-4c52-9b68-c84aee119f6d_model_2\n",
      "Save modelgrid-372051c8-d919-4c52-9b68-c84aee119f6d_model_3 to /tmp//grid-372051c8-d919-4c52-9b68-c84aee119f6d_model_3\n",
      "Save modelgrid-372051c8-d919-4c52-9b68-c84aee119f6d_model_4 to /tmp//grid-372051c8-d919-4c52-9b68-c84aee119f6d_model_4\n",
      "Save modelgrid-372051c8-d919-4c52-9b68-c84aee119f6d_model_5 to /tmp//grid-372051c8-d919-4c52-9b68-c84aee119f6d_model_5\n",
      "Save modelgrid-372051c8-d919-4c52-9b68-c84aee119f6d_model_6 to /tmp//grid-372051c8-d919-4c52-9b68-c84aee119f6d_model_6\n",
      "Save modelgrid-372051c8-d919-4c52-9b68-c84aee119f6d_model_8 to /tmp//grid-372051c8-d919-4c52-9b68-c84aee119f6d_model_8\n",
      "Save modelgrid-372051c8-d919-4c52-9b68-c84aee119f6d_model_9 to /tmp//grid-372051c8-d919-4c52-9b68-c84aee119f6d_model_9\n",
      "Save modelgrid-8a6dfea4-1f6e-4354-9396-f727a5bd937a_model_1 to /tmp//grid-8a6dfea4-1f6e-4354-9396-f727a5bd937a_model_1\n",
      "Save modelgrid-8a6dfea4-1f6e-4354-9396-f727a5bd937a_model_10 to /tmp//grid-8a6dfea4-1f6e-4354-9396-f727a5bd937a_model_10\n",
      "Save modelgrid-8a6dfea4-1f6e-4354-9396-f727a5bd937a_model_11 to /tmp//grid-8a6dfea4-1f6e-4354-9396-f727a5bd937a_model_11\n",
      "Save modelgrid-8a6dfea4-1f6e-4354-9396-f727a5bd937a_model_12 to /tmp//grid-8a6dfea4-1f6e-4354-9396-f727a5bd937a_model_12\n",
      "Save modelgrid-8a6dfea4-1f6e-4354-9396-f727a5bd937a_model_13 to /tmp//grid-8a6dfea4-1f6e-4354-9396-f727a5bd937a_model_13\n",
      "Save modelgrid-8a6dfea4-1f6e-4354-9396-f727a5bd937a_model_14 to /tmp//grid-8a6dfea4-1f6e-4354-9396-f727a5bd937a_model_14\n",
      "Save modelgrid-8a6dfea4-1f6e-4354-9396-f727a5bd937a_model_14_cv_1 to /tmp//grid-8a6dfea4-1f6e-4354-9396-f727a5bd937a_model_14_cv_1\n",
      "Save modelgrid-8a6dfea4-1f6e-4354-9396-f727a5bd937a_model_14_cv_2 to /tmp//grid-8a6dfea4-1f6e-4354-9396-f727a5bd937a_model_14_cv_2\n",
      "Save modelgrid-8a6dfea4-1f6e-4354-9396-f727a5bd937a_model_14_cv_3 to /tmp//grid-8a6dfea4-1f6e-4354-9396-f727a5bd937a_model_14_cv_3\n",
      "Save modelgrid-8a6dfea4-1f6e-4354-9396-f727a5bd937a_model_14_cv_4 to /tmp//grid-8a6dfea4-1f6e-4354-9396-f727a5bd937a_model_14_cv_4\n",
      "Save modelgrid-8a6dfea4-1f6e-4354-9396-f727a5bd937a_model_14_cv_5 to /tmp//grid-8a6dfea4-1f6e-4354-9396-f727a5bd937a_model_14_cv_5\n",
      "Save modelgrid-8a6dfea4-1f6e-4354-9396-f727a5bd937a_model_15 to /tmp//grid-8a6dfea4-1f6e-4354-9396-f727a5bd937a_model_15\n",
      "Save modelgrid-8a6dfea4-1f6e-4354-9396-f727a5bd937a_model_16 to /tmp//grid-8a6dfea4-1f6e-4354-9396-f727a5bd937a_model_16\n",
      "Save modelgrid-8a6dfea4-1f6e-4354-9396-f727a5bd937a_model_17 to /tmp//grid-8a6dfea4-1f6e-4354-9396-f727a5bd937a_model_17\n",
      "Save modelgrid-8a6dfea4-1f6e-4354-9396-f727a5bd937a_model_18 to /tmp//grid-8a6dfea4-1f6e-4354-9396-f727a5bd937a_model_18\n",
      "Save modelgrid-8a6dfea4-1f6e-4354-9396-f727a5bd937a_model_19 to /tmp//grid-8a6dfea4-1f6e-4354-9396-f727a5bd937a_model_19\n",
      "Save modelgrid-8a6dfea4-1f6e-4354-9396-f727a5bd937a_model_2 to /tmp//grid-8a6dfea4-1f6e-4354-9396-f727a5bd937a_model_2\n",
      "Save modelgrid-8a6dfea4-1f6e-4354-9396-f727a5bd937a_model_20 to /tmp//grid-8a6dfea4-1f6e-4354-9396-f727a5bd937a_model_20\n",
      "Save modelgrid-8a6dfea4-1f6e-4354-9396-f727a5bd937a_model_21 to /tmp//grid-8a6dfea4-1f6e-4354-9396-f727a5bd937a_model_21\n",
      "Save modelgrid-8a6dfea4-1f6e-4354-9396-f727a5bd937a_model_22 to /tmp//grid-8a6dfea4-1f6e-4354-9396-f727a5bd937a_model_22\n",
      "Save modelgrid-8a6dfea4-1f6e-4354-9396-f727a5bd937a_model_23 to /tmp//grid-8a6dfea4-1f6e-4354-9396-f727a5bd937a_model_23\n",
      "Save modelgrid-8a6dfea4-1f6e-4354-9396-f727a5bd937a_model_3 to /tmp//grid-8a6dfea4-1f6e-4354-9396-f727a5bd937a_model_3\n",
      "Save modelgrid-8a6dfea4-1f6e-4354-9396-f727a5bd937a_model_4 to /tmp//grid-8a6dfea4-1f6e-4354-9396-f727a5bd937a_model_4\n",
      "Save modelgrid-8a6dfea4-1f6e-4354-9396-f727a5bd937a_model_5 to /tmp//grid-8a6dfea4-1f6e-4354-9396-f727a5bd937a_model_5\n",
      "Save modelgrid-8a6dfea4-1f6e-4354-9396-f727a5bd937a_model_6 to /tmp//grid-8a6dfea4-1f6e-4354-9396-f727a5bd937a_model_6\n",
      "Save modelgrid-8a6dfea4-1f6e-4354-9396-f727a5bd937a_model_7 to /tmp//grid-8a6dfea4-1f6e-4354-9396-f727a5bd937a_model_7\n",
      "Save modelgrid-8a6dfea4-1f6e-4354-9396-f727a5bd937a_model_8 to /tmp//grid-8a6dfea4-1f6e-4354-9396-f727a5bd937a_model_8\n",
      "Save modelgrid-8a6dfea4-1f6e-4354-9396-f727a5bd937a_model_9 to /tmp//grid-8a6dfea4-1f6e-4354-9396-f727a5bd937a_model_9\n",
      "Save modelgrid-dp2_model_0 to /tmp//grid-dp2_model_0\n",
      "Save modelgrid-dp2_model_1 to /tmp//grid-dp2_model_1\n",
      "Save modelgrid-dp2_model_2 to /tmp//grid-dp2_model_2\n",
      "Save modelgrid-dp2_model_3 to /tmp//grid-dp2_model_3\n",
      "Save modelgrid-dp2_model_4 to /tmp//grid-dp2_model_4\n",
      "Save modelgrid-dp2_model_5 to /tmp//grid-dp2_model_5\n",
      "Save modelgrid-dp2_model_6 to /tmp//grid-dp2_model_6\n",
      "Save modelgrid-ff50c4f6-c015-4e9c-a482-819efa061eb5_model_0 to /tmp//grid-ff50c4f6-c015-4e9c-a482-819efa061eb5_model_0\n",
      "Save modelgrid-ff50c4f6-c015-4e9c-a482-819efa061eb5_model_1 to /tmp//grid-ff50c4f6-c015-4e9c-a482-819efa061eb5_model_1\n"
     ]
    }
   ],
   "source": [
    "h.save_all_models(path='/tmp/', overwrite=True)"
   ]
  },
  {
   "cell_type": "code",
   "execution_count": null,
   "metadata": {
    "collapsed": true
   },
   "outputs": [],
   "source": []
  }
 ],
 "metadata": {
  "kernelspec": {
   "display_name": "Python 2",
   "language": "python",
   "name": "python2"
  },
  "language_info": {
   "codemirror_mode": {
    "name": "ipython",
    "version": 2
   },
   "file_extension": ".py",
   "mimetype": "text/x-python",
   "name": "python",
   "nbconvert_exporter": "python",
   "pygments_lexer": "ipython2",
   "version": "2.7.13"
  },
  "toc": {
   "colors": {
    "hover_highlight": "#DAA520",
    "running_highlight": "#FF0000",
    "selected_highlight": "#FFD700"
   },
   "moveMenuLeft": true,
   "nav_menu": {
    "height": "12px",
    "width": "252px"
   },
   "navigate_menu": true,
   "number_sections": true,
   "sideBar": true,
   "threshold": 4,
   "toc_cell": false,
   "toc_section_display": "block",
   "toc_window_display": false,
   "widenNotebook": false
  }
 },
 "nbformat": 4,
 "nbformat_minor": 2
}
